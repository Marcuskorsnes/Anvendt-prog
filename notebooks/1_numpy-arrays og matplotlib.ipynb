{
 "cells": [
  {
   "cell_type": "markdown",
   "metadata": {
    "deletable": false,
    "editable": false,
    "run_control": {
     "frozen": true
    }
   },
   "source": [
    "# Numpy, pandas og matplotlib\n",
    "\n",
    "**Læringsmål**\n",
    "\n",
    "* Grunnleggene om\n",
    "  - Numpy-arrays\n",
    "  - Plotting\n",
    "\n"
   ]
  },
  {
   "cell_type": "markdown",
   "metadata": {},
   "source": [
    "Numpy og matplotlib brukes ofte til statistikk og analyser, og i denne oppgaven skal vi laste inn et stort datasett og gjennomføre enkle analyser på det. \n",
    "Datasettet er hentet fra [kaggle](https://www.kaggle.com/datasets/arjunprasadsarkhel/2021-olympics-in-tokyo) og handler om 2021 Olympics i Tokyo.\n",
    "\n",
    "### a) Åpne excel fil i Python\n",
    "Last ned datasettet, pakk ut og legg filene under folderen data i ditt prosjekt.\n",
    "Bruk deretter pandas sin read_excel funksjon til å lese filen Medals.xlsx.\n",
    "\n",
    "Trinn-for-trinn instruksjoner:\n",
    "- Installer nødvendige biblioteker\n",
    "- Les data fra Excel-filen"
   ]
  },
  {
   "cell_type": "code",
   "execution_count": null,
   "metadata": {},
   "outputs": [],
   "source": [
    "# Skriv koden din her\n",
    "\n",
    "import pandas as pd\n",
    "\n",
    "# Les Excel-filen\n",
    "medals_df = pd.read_excel('../data/Medals.xlsx')\n",
    "\n",
    "# Vis de første radene i DataFrame for å bekrefte at dataene er lest riktig\n",
    "print(medals_df.head())\n"
   ]
  },
  {
   "cell_type": "code",
   "execution_count": null,
   "metadata": {},
   "outputs": [],
   "source": [
    "medals_df.info()"
   ]
  },
  {
   "cell_type": "markdown",
   "metadata": {},
   "source": [
    "### b) Visualisere innholdet i Medals.xlsx\n",
    "\n",
    "I denne oppgaven skal du visualisere innholdet i filen ved hjelp av Python-biblioteker som Matplotlib.\n",
    "Bruk Matplotlib til å lage grafer som viser fordelingen av medaljer.    \n"
   ]
  },
  {
   "cell_type": "code",
   "execution_count": null,
   "metadata": {},
   "outputs": [],
   "source": [
    "# Skriv koden din her\n",
    "import matplotlib.pyplot as plt\n",
    "\n",
    "# Stolpediagram for medaljefordeling per land\n",
    "plt.figure(figsize=(14, 8))\n",
    "bar_width = 0.35\n",
    "index = range(len(medals_df))\n",
    "\n",
    "plt.bar(index, medals_df['Gold'], bar_width, label='Gold', color='gold')\n",
    "plt.bar(index, medals_df['Silver'], bar_width, bottom=medals_df['Gold'], label='Silver', color='silver')\n",
    "plt.bar(index, medals_df['Bronze'], bar_width, bottom=medals_df['Gold'] + medals_df['Silver'], label='Bronze', color='#cd7f32')\n",
    "\n",
    "plt.xlabel('Land')\n",
    "plt.ylabel('Antall medaljer')\n",
    "plt.title('Medaljefordeling per land')\n",
    "plt.xticks(index, medals_df['Team/NOC'], rotation=90)\n",
    "plt.legend()\n",
    "\n",
    "plt.tight_layout()\n",
    "plt.show()"
   ]
  },
  {
   "cell_type": "markdown",
   "metadata": {},
   "source": [
    "### c) Visualisere innholdet i EntriesGender.xlsx\n",
    "\n",
    "I denne oppgaven skal du åpne filen EntriesGender.xlsx, som inneholder informasjon om kjønnsfordelingen av deltakere i forskjellige arrangementer under de olympiske leker i Tokyo 2021. Du skal deretter visualisere innholdet i filen ved hjelp av Python-biblioteker som Pandas og Matplotlib."
   ]
  },
  {
   "cell_type": "code",
   "execution_count": null,
   "metadata": {},
   "outputs": [],
   "source": [
    "# Skriv koden din her\n",
    "\n",
    "# Les Excel-filen\n",
    "entries_gender_df = pd.read_excel('../data/EntriesGender.xlsx')\n",
    "\n",
    "# Vis de første radene i DataFrame for å bekrefte at dataene er lest riktig\n",
    "print(entries_gender_df.head())\n",
    "\n",
    "# Summér antall deltakere per kjønn\n",
    "total_female = entries_gender_df['Female'].sum()\n",
    "total_male = entries_gender_df['Male'].sum()\n",
    "\n",
    "print(f'Totalt antall kvinnelige deltakere: {total_female}')\n",
    "print(f'Totalt antall mannlige deltakere: {total_male}')\n",
    "\n",
    "# Pie chart for kjønnsfordeling\n",
    "labels = ['Female', 'Male']\n",
    "sizes = [total_female, total_male]\n",
    "colors = ['#ff9999','#66b3ff']\n",
    "explode = (0.1, 0)  # explode 1st slice\n",
    "\n",
    "plt.figure(figsize=(8, 8))\n",
    "plt.pie(sizes, explode=explode, labels=labels, colors=colors, autopct='%1.1f%%',\n",
    "        shadow=True, startangle=140)\n",
    "plt.title('Kjønnsfordeling av deltakere')\n",
    "plt.axis('equal')  # Equal aspect ratio ensures that pie is drawn as a circle.\n",
    "plt.show()"
   ]
  },
  {
   "cell_type": "markdown",
   "metadata": {},
   "source": [
    "### d) Analyser medaljefordelingen etter kjønn (Vanskelig)\n",
    "\n",
    "I denne oppgaven (frivillig) skal du kombinere data fra Medals.xlsx og EntriesGender.xlsx for å analysere medaljefordelingen etter kjønn. Du skal deretter visualisere resultatene ved hjelp av Python-biblioteker som Pandas og Matplotlib."
   ]
  },
  {
   "cell_type": "code",
   "execution_count": null,
   "metadata": {},
   "outputs": [],
   "source": [
    "# Skriv koden din her\n",
    "import matplotlib.pyplot as plt\n",
    "import pandas as pd\n",
    "import seaborn as sns\n",
    "\n",
    "# Les Excel-filene\n",
    "medals_df = pd.read_excel('../data/Medals.xlsx')\n",
    "entries_gender_df = pd.read_excel('../data/EntriesGender.xlsx')\n",
    "athletes_df = pd.read_excel('../data/Athletes.xlsx')\n",
    "\n",
    "# Merge medals_df with athletes_df on 'NOC'\n",
    "merged_df = pd.merge(medals_df, athletes_df, left_on='Team/NOC', right_on='NOC')\n",
    "\n",
    "# Merge the result with entries_gender_df on 'Discipline'\n",
    "combined_df = pd.merge(merged_df, entries_gender_df, on='Discipline')\n",
    "\n",
    "# Calculate the total number of medals for each gender\n",
    "combined_df['Total Medals'] = combined_df['Gold'] + combined_df['Silver'] + combined_df['Bronze']\n",
    "\n",
    "# Group by gender and sum the total medals\n",
    "gender_medal_count = combined_df.groupby(['Discipline', 'Female', 'Male'])['Total Medals'].sum().reset_index()\n",
    "\n",
    "# Melt the dataframe to have 'Gender' as a single column\n",
    "gender_medal_count = gender_medal_count.melt(id_vars=['Discipline'], value_vars=['Female', 'Male'], var_name='Gender', value_name='Medals')\n",
    "\n",
    "# Stolpediagram for medaljefordeling etter kjønn\n",
    "plt.figure(figsize=(14, 8))\n",
    "sns.barplot(data=gender_medal_count, x='Discipline', y='Medals', hue='Gender')\n",
    "plt.xticks(rotation=90)\n",
    "plt.title('Medaljefordeling etter kjønn')\n",
    "plt.xlabel('Disiplin')\n",
    "plt.ylabel('Antall medaljer')\n",
    "plt.legend(title='Kjønn')\n",
    "plt.show()\n"
   ]
  }
 ],
 "metadata": {
  "kernelspec": {
   "display_name": "Python 3",
   "language": "python",
   "name": "python3"
  },
  "language_info": {
   "codemirror_mode": {
    "name": "ipython",
    "version": 3
   },
   "file_extension": ".py",
   "mimetype": "text/x-python",
   "name": "python",
   "nbconvert_exporter": "python",
   "pygments_lexer": "ipython3",
   "version": "3.12.2"
  },
  "toc": {
   "base_numbering": 1,
   "nav_menu": {},
   "number_sections": false,
   "sideBar": true,
   "skip_h1_title": false,
   "title_cell": "Table of Contents",
   "title_sidebar": "Contents",
   "toc_cell": false,
   "toc_position": {},
   "toc_section_display": true,
   "toc_window_display": false
  }
 },
 "nbformat": 4,
 "nbformat_minor": 2
}
