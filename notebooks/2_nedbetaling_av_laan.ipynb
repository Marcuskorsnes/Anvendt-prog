{
 "cells": [
  {
   "cell_type": "markdown",
   "metadata": {
    "editable": true,
    "slideshow": {
     "slide_type": ""
    },
    "tags": []
   },
   "source": [
    "# Nedbetaling av serielån\n",
    "\n",
    "**Læringsmål:**\n",
    "\n",
    "* While-løkker med oppsamling\n",
    "\n",
    "**Introduksjon:**\n",
    "\n",
    "Et serielån er en type lån hvor tilbakebetalingen skjer i faste beløp av hovedstolen, noe som betyr at renten beregnes på det gjenværende beløpet hver periode. Hovedstolen tilbakebetales i like store avdrag, mens renten gradvis synker ettersom hovedstolen blir mindre. Dette fører til at de totale månedlige innbetalingene avtar over tid.\n",
    "\n",
    "Hovedstol refererer til det opprinnelige lånebeløpet som en låntaker mottar fra långiveren. Det er det beløpet som renten beregnes på, og som skal tilbakebetales over tid. Hovedstolen inkluderer ikke renter eller gebyrer; det er kun selve lånebeløpet.\n",
    "\n",
    "For eksempel, hvis du tar opp et lån på 100 000 kr, er hovedstolen 100 000 kr. Når du betaler tilbake lånet, betaler du både avdrag på hovedstolen og renter på det gjenværende beløpet. Hovedstolen reduseres etter hvert som du gjør innbetalinger, noe som også fører til at renten som beregnes på lånet blir lavere over tid.\n",
    "\n",
    "\n",
    "Eksempel:\n",
    "\n",
    "La oss si at du tar opp et serielån på 100 000 kr med en rente på 5 % og en nedbetalingstid på 5 år.\n",
    "\n",
    "- Hovedstolen deles opp i like store avdrag, som i dette tilfellet blir 100 000 kr / 60 måneder = 1 666,67 kr per måned i avdrag (for 5 år).\n",
    "- Renten for den første måneden kalkuleres på hele beløpet (100 000 kr), så renten blir 100 000 kr * 0,05 / 12 ≈ 416,67 kr.\n",
    "- Den totale innbetalingen for den første måneden blir da 1 666,67 kr (avdrag) + 416,67 kr (rente) = 2 083,34 kr.\n",
    "- I den andre måneden vil renten være basert på det gjenværende lånet (98 333,33 kr), og så videre.\n",
    "\n",
    "\n",
    "Bruk gjerne [Serielånskalkulatoren](https://www.smartepenger.no/105-kalkulator/978-serielanskalkulator) til Smarte Penger for å gjøre deg kjent med hvordan serie lån fungerer."
   ]
  },
  {
   "cell_type": "markdown",
   "metadata": {},
   "source": [
    "## a) Registrere en innbetaling:\n",
    "Skriv en funksjon som registrerer innbetalingen for et serielån. Funksjonen skal ta inn månedlig innbetaling, rente og gjenværende hovedstol og returnere det nye gjenværende beløpet etter innbetalingen."
   ]
  },
  {
   "cell_type": "code",
   "execution_count": 3,
   "metadata": {
    "nbgrader": {
     "grade": false,
     "grade_id": "cell-916064d0f8d9d3ef",
     "locked": false,
     "schema_version": 3,
     "solution": true,
     "task": false
    }
   },
   "outputs": [
    {
     "name": "stdout",
     "output_type": "stream",
     "text": [
      "9541.666666666666\n"
     ]
    }
   ],
   "source": [
    "def gjenværende_lån(månedlig_avdrag, rente, gjenværende_hovedstol):\n",
    "    \n",
    "    rente_beløp = gjenværende_hovedstol * rente / 12\n",
    "\n",
    "    # Beregn hvor mye som går til hovedstolen\n",
    "    nedbetaling_hovedstol = månedlig_avdrag - rente_beløp\n",
    "\n",
    "   \n",
    "    nytt_gjenværende_beløp = gjenværende_hovedstol - nedbetaling_hovedstol\n",
    "\n",
    "    return nytt_gjenværende_beløp\n",
    "\n",
    "\n",
    "resultat = gjenværende_lån(500, 0.05, 10000)\n",
    "print(resultat)\n",
    "\n",
    "\n",
    "\n",
    "\n",
    "\n"
   ]
  },
  {
   "cell_type": "markdown",
   "metadata": {},
   "source": [
    "## b) Finne nedbetalingstid:\n",
    "Skriv en funksjon som finner nedbetalingstiden i måneder for et serielån basert på lånebeløp, månedlig avdrag og rente. Funksjonen bør returnere antall måneder det tar å betale ned lånet.\n",
    "Bruk funksjonen fra oppgave a) for å finne ut hva gjenvaerende_hovedstol er etter hver betaling. \n"
   ]
  },
  {
   "cell_type": "code",
   "execution_count": null,
   "metadata": {},
   "outputs": [],
   "source": []
  },
  {
   "cell_type": "code",
   "execution_count": 4,
   "metadata": {
    "nbgrader": {
     "grade": false,
     "grade_id": "cell-3c6ef7bba03d7350",
     "locked": false,
     "schema_version": 3,
     "solution": true,
     "task": false
    }
   },
   "outputs": [
    {
     "name": "stdout",
     "output_type": "stream",
     "text": [
      "Hvor mye vil du betale hver måned? 34000\n",
      "Hvor mye må du betale hver måned? 3400\n",
      "Hva er renten? 0.1\n",
      "Måned 1: Gjenværende hovedstol er 30883.333333333332 kr\n",
      "Måned 2: Gjenværende hovedstol er 27740.694444444445 kr\n",
      "Måned 3: Gjenværende hovedstol er 24571.86689814815 kr\n",
      "Måned 4: Gjenværende hovedstol er 21376.632455632716 kr\n",
      "Måned 5: Gjenværende hovedstol er 18154.771059429655 kr\n",
      "Måned 6: Gjenværende hovedstol er 14906.060818258236 kr\n",
      "Måned 7: Gjenværende hovedstol er 11630.277991743722 kr\n",
      "Måned 8: Gjenværende hovedstol er 8327.196975008254 kr\n",
      "Måned 9: Gjenværende hovedstol er 4996.590283133322 kr\n",
      "Måned 10: Gjenværende hovedstol er 1638.2285354927667 kr\n",
      "Måned 11: Gjenværende hovedstol er 0 kr\n",
      "Det tar 11 måneder å betale ned lånet\n"
     ]
    }
   ],
   "source": [
    "def finn_nedbetalingstid(lånebeløp, månedlig_avdrag, rente):\n",
    "    måneder = 0\n",
    "    while lånebeløp > 0:\n",
    "        lånebeløp = gjenværende_lån(månedlig_avdrag, rente, lånebeløp)\n",
    "        måneder += 1\n",
    "        print(f\"Måned {måneder}: Gjenværende hovedstol er {lånebeløp} kr\")\n",
    "    return måneder\n",
    "\n",
    "def gjenværende_lån(månedlig_avdrag, rente, gjenværende_hovedstol):\n",
    "    rente_beløp = gjenværende_hovedstol * rente / 12\n",
    "    nedbetaling_hovedstol = månedlig_avdrag - rente_beløp\n",
    "    nytt_gjenværende_beløp = gjenværende_hovedstol - nedbetaling_hovedstol\n",
    "    return max(0, nytt_gjenværende_beløp) \n",
    "\n",
    "\n",
    "\n",
    "lånebeløp = int(input(\"Hvor mye vil du låne? \"))\n",
    "print(\"Hvor mye vil du betale hver måned?\", lånebeløp)\n",
    "\n",
    "månedlig_avdrag = int(input(\"Hvor mye skal du betale hver måned? \"))\n",
    "print(\"Hvor mye må du betale hver måned?\", månedlig_avdrag)\n",
    "\n",
    "rente = float(input(\"Hva er renten? \"))\n",
    "print(\"Hva er renten?\", rente)\n",
    "\n",
    "resultat = finn_nedbetalingstid(lånebeløp, månedlig_avdrag , rente)\n",
    "print(f\"Det tar {resultat} måneder å betale ned lånet\")\n",
    "\n",
    "\n",
    "\n",
    "\n"
   ]
  },
  {
   "cell_type": "markdown",
   "metadata": {},
   "source": [
    "## c) \n",
    "Endre funksjonen fra oppgave b slik at maanedlig_avdrag, rente_kostnad og gjenvaerende_hovedstol for hver måned returneres i som en liste i tillegg til total nedbetalingstid.\n",
    "\n"
   ]
  },
  {
   "cell_type": "code",
   "execution_count": 5,
   "metadata": {},
   "outputs": [
    {
     "name": "stdout",
     "output_type": "stream",
     "text": [
      "Det tar 11 måneder å betale ned lånet\n",
      "Måned 1: Avdrag: 3400, Rente: 283.33, Gjenværende: 30883.33\n",
      "Måned 2: Avdrag: 3400, Rente: 257.36, Gjenværende: 27740.69\n",
      "Måned 3: Avdrag: 3400, Rente: 231.17, Gjenværende: 24571.87\n",
      "Måned 4: Avdrag: 3400, Rente: 204.77, Gjenværende: 21376.63\n",
      "Måned 5: Avdrag: 3400, Rente: 178.14, Gjenværende: 18154.77\n",
      "Måned 6: Avdrag: 3400, Rente: 151.29, Gjenværende: 14906.06\n",
      "Måned 7: Avdrag: 3400, Rente: 124.22, Gjenværende: 11630.28\n",
      "Måned 8: Avdrag: 3400, Rente: 96.92, Gjenværende: 8327.20\n",
      "Måned 9: Avdrag: 3400, Rente: 69.39, Gjenværende: 4996.59\n",
      "Måned 10: Avdrag: 3400, Rente: 41.64, Gjenværende: 1638.23\n",
      "Måned 11: Avdrag: 3400, Rente: 13.65, Gjenværende: 0.00\n"
     ]
    }
   ],
   "source": [
    "def finn_nedbetalingstid(lånebeløp, månedlig_avdrag, rente):\n",
    "    måneder = 0\n",
    "    historikk = []\n",
    "\n",
    "    while lånebeløp > 0:\n",
    "        rentebeløp = lånebeløp * rente / 12\n",
    "        nedbetaling_hovedstol = månedlig_avdrag - rentebeløp\n",
    "        lånebeløp -= nedbetaling_hovedstol\n",
    "        historikk.append((måneder + 1, månedlig_avdrag, rentebeløp, max(0, lånebeløp)))\n",
    "        måneder += 1\n",
    "    return måneder, historikk\n",
    "\n",
    "lånebeløp = int(input(\"Hvor mye vil du låne? \"))\n",
    "månedlig_avdrag = int(input(\"Hvor mye skal du betale hver måned? \"))\n",
    "rente = float(input(\"Hva er renten? \"))\n",
    "\n",
    "resultat, historikk = finn_nedbetalingstid(lånebeløp, månedlig_avdrag, rente)\n",
    "print(f\"Det tar {resultat} måneder å betale ned lånet\")\n",
    "\n",
    "for måned, avdrag, rente, gjenværende in historikk:\n",
    "    print(f\"Måned {måned}: Avdrag: {avdrag}, Rente: {rente:.2f}, Gjenværende: {gjenværende:.2f}\")"
   ]
  },
  {
   "cell_type": "code",
   "execution_count": null,
   "metadata": {},
   "outputs": [],
   "source": []
  }
 ],
 "metadata": {
  "celltoolbar": "Create Assignment",
  "kernelspec": {
   "display_name": "venv",
   "language": "python",
   "name": "python3"
  },
  "language_info": {
   "codemirror_mode": {
    "name": "ipython",
    "version": 3
   },
   "file_extension": ".py",
   "mimetype": "text/x-python",
   "name": "python",
   "nbconvert_exporter": "python",
   "pygments_lexer": "ipython3",
   "version": "3.11.9"
  },
  "varInspector": {
   "cols": {
    "lenName": 16,
    "lenType": 16,
    "lenVar": 40
   },
   "kernels_config": {
    "python": {
     "delete_cmd_postfix": "",
     "delete_cmd_prefix": "del ",
     "library": "var_list.py",
     "varRefreshCmd": "print(var_dic_list())"
    },
    "r": {
     "delete_cmd_postfix": ") ",
     "delete_cmd_prefix": "rm(",
     "library": "var_list.r",
     "varRefreshCmd": "cat(var_dic_list()) "
    }
   },
   "types_to_exclude": [
    "module",
    "function",
    "builtin_function_or_method",
    "instance",
    "_Feature"
   ],
   "window_display": false
  }
 },
 "nbformat": 4,
 "nbformat_minor": 4
}
