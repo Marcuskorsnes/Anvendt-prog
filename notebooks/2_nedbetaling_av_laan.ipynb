{
 "cells": [
  {
   "cell_type": "markdown",
   "metadata": {
    "editable": true,
    "slideshow": {
     "slide_type": ""
    },
    "tags": []
   },
   "source": [
    "# Nedbetaling av serielån\n",
    "\n",
    "**Læringsmål:**\n",
    "\n",
    "* While-løkker med oppsamling\n",
    "\n",
    "**Introduksjon:**\n",
    "\n",
    "Et serielån er en type lån hvor tilbakebetalingen skjer i faste beløp av hovedstolen, noe som betyr at renten beregnes på det gjenværende beløpet hver periode. Hovedstolen tilbakebetales i like store avdrag, mens renten gradvis synker ettersom hovedstolen blir mindre. Dette fører til at de totale månedlige innbetalingene avtar over tid.\n",
    "\n",
    "Hovedstol refererer til det opprinnelige lånebeløpet som en låntaker mottar fra långiveren. Det er det beløpet som renten beregnes på, og som skal tilbakebetales over tid. Hovedstolen inkluderer ikke renter eller gebyrer; det er kun selve lånebeløpet.\n",
    "\n",
    "For eksempel, hvis du tar opp et lån på 100 000 kr, er hovedstolen 100 000 kr. Når du betaler tilbake lånet, betaler du både avdrag på hovedstolen og renter på det gjenværende beløpet. Hovedstolen reduseres etter hvert som du gjør innbetalinger, noe som også fører til at renten som beregnes på lånet blir lavere over tid.\n",
    "\n",
    "\n",
    "Eksempel:\n",
    "\n",
    "La oss si at du tar opp et serielån på 100 000 kr med en rente på 5 % og en nedbetalingstid på 5 år.\n",
    "\n",
    "- Hovedstolen deles opp i like store avdrag, som i dette tilfellet blir 100 000 kr / 60 måneder = 1 666,67 kr per måned i avdrag (for 5 år).\n",
    "- Renten for den første måneden kalkuleres på hele beløpet (100 000 kr), så renten blir 100 000 kr * 0,05 / 12 ≈ 416,67 kr.\n",
    "- Den totale innbetalingen for den første måneden blir da 1 666,67 kr (avdrag) + 416,67 kr (rente) = 2 083,34 kr.\n",
    "- I den andre måneden vil renten være basert på det gjenværende lånet (98 333,33 kr), og så videre.\n",
    "\n",
    "\n",
    "Bruk gjerne [Serielånskalkulatoren](https://www.smartepenger.no/105-kalkulator/978-serielanskalkulator) til Smarte Penger for å gjøre deg kjent med hvordan serie lån fungerer."
   ]
  },
  {
   "cell_type": "markdown",
   "metadata": {},
   "source": [
    "## a) Registrere en innbetaling:\n",
    "Skriv en funksjon som registrerer innbetalingen for et serielån. Funksjonen skal ta inn månedlig innbetaling, rente og gjenværende hovedstol og returnere det nye gjenværende beløpet etter innbetalingen."
   ]
  },
  {
   "cell_type": "code",
   "execution_count": null,
   "metadata": {
    "nbgrader": {
     "grade": false,
     "grade_id": "cell-916064d0f8d9d3ef",
     "locked": false,
     "schema_version": 3,
     "solution": true,
     "task": false
    }
   },
   "outputs": [],
   "source": [
    "# Skriv din kode her...\n"
   ]
  },
  {
   "cell_type": "markdown",
   "metadata": {},
   "source": [
    "## b) Finne nedbetalingstid:\n",
    "Skriv en funksjon som finner nedbetalingstiden i måneder for et serielån basert på lånebeløp, månedlig avdrag og rente. Funksjonen bør returnere antall måneder det tar å betale ned lånet.\n",
    "Bruk funksjonen fra oppgave a) for å finne ut hva gjenvaerende_hovedstol er etter hver betaling. \n"
   ]
  },
  {
   "cell_type": "code",
   "execution_count": null,
   "metadata": {
    "nbgrader": {
     "grade": false,
     "grade_id": "cell-3c6ef7bba03d7350",
     "locked": false,
     "schema_version": 3,
     "solution": true,
     "task": false
    }
   },
   "outputs": [],
   "source": [
    "# Skriv din kode her..."
   ]
  },
  {
   "cell_type": "markdown",
   "metadata": {},
   "source": [
    "## c) \n",
    "Endre funksjonen fra oppgave b slik at maanedlig_avdrag, rente_kostnad og gjenvaerende_hovedstol for hver måned returneres i som en liste i tillegg til total nedbetalingstid.\n",
    "\n"
   ]
  },
  {
   "cell_type": "code",
   "execution_count": null,
   "metadata": {},
   "outputs": [],
   "source": [
    "# Skriv din kode her..."
   ]
  }
 ],
 "metadata": {
  "celltoolbar": "Create Assignment",
  "kernelspec": {
   "display_name": "Python 3",
   "language": "python",
   "name": "python3"
  },
  "language_info": {
   "codemirror_mode": {
    "name": "ipython",
    "version": 3
   },
   "file_extension": ".py",
   "mimetype": "text/x-python",
   "name": "python",
   "nbconvert_exporter": "python",
   "pygments_lexer": "ipython3",
   "version": "3.12.2"
  },
  "varInspector": {
   "cols": {
    "lenName": 16,
    "lenType": 16,
    "lenVar": 40
   },
   "kernels_config": {
    "python": {
     "delete_cmd_postfix": "",
     "delete_cmd_prefix": "del ",
     "library": "var_list.py",
     "varRefreshCmd": "print(var_dic_list())"
    },
    "r": {
     "delete_cmd_postfix": ") ",
     "delete_cmd_prefix": "rm(",
     "library": "var_list.r",
     "varRefreshCmd": "cat(var_dic_list()) "
    }
   },
   "types_to_exclude": [
    "module",
    "function",
    "builtin_function_or_method",
    "instance",
    "_Feature"
   ],
   "window_display": false
  }
 },
 "nbformat": 4,
 "nbformat_minor": 4
}
